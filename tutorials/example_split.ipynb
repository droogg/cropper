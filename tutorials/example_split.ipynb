{
 "cells": [
  {
   "cell_type": "code",
   "execution_count": 1,
   "metadata": {},
   "outputs": [],
   "source": [
    "import sys\n",
    "sys.path.append('../')"
   ]
  },
  {
   "cell_type": "code",
   "execution_count": 2,
   "metadata": {},
   "outputs": [],
   "source": [
    "from cropper.utils_img import get_sorted_img_path, get_img_couple\n",
    "from cropper.core import tilinig_image, create_yolo_annotation, split_dataset"
   ]
  },
  {
   "cell_type": "code",
   "execution_count": 3,
   "metadata": {},
   "outputs": [],
   "source": [
    "# путь до набора данных\n",
    "path = '/home/vic/PycharmProjects/DS_neuro/Task/detection/MY/cowc_dataset_1'"
   ]
  },
  {
   "cell_type": "code",
   "execution_count": 4,
   "metadata": {},
   "outputs": [],
   "source": [
    "# требуемый размер разрезанных изображений, перекрытие тайлов изображения\n",
    "req_size = (1024,1024)\n",
    "overlap = 35 # in pixels"
   ]
  },
  {
   "cell_type": "code",
   "execution_count": 5,
   "metadata": {},
   "outputs": [
    {
     "name": "stdout",
     "output_type": "stream",
     "text": [
      "New folder \"/home/vic/PycharmProjects/DS_neuro/Task/detection/MY/cowc_dataset_1/crops\" created for crops file stores\n"
     ]
    }
   ],
   "source": [
    "# составление списка всех изображений в дирректории с заданным расширением\n",
    "path_img_list = get_sorted_img_path(path, ['png'])\n",
    "# каждое изображение обрабатывается отдельно. обработка всех изображений - цикл по списку изображений \n",
    "for path_img in path_img_list:\n",
    "    path_crop_dir,path_crop_img  = tilinig_image(path_img, req_size, overlap, annotation_prefix= '_Annotated_Cars')\n",
    "    # path_crop_dir - путь к дирректории, где сохранены тайлы, содержит 2 папки - аннотации и кропы изображений\n",
    "    # path_crop_img - путь к дирректории где сохранены только кропы изображений"
   ]
  },
  {
   "cell_type": "code",
   "execution_count": 6,
   "metadata": {},
   "outputs": [
    {
     "name": "stdout",
     "output_type": "stream",
     "text": [
      "Number of couple image/annotation:  130\n"
     ]
    }
   ],
   "source": [
    "# составление списка пар изображение/аннотация из дирректории, куда помещены тайлы исходных изображений\n",
    "img_couple_list = get_img_couple(path_crop_dir, ['png'])\n",
    "print('Number of couple image/annotation: ', len(img_couple_list))"
   ]
  },
  {
   "cell_type": "code",
   "execution_count": 7,
   "metadata": {},
   "outputs": [
    {
     "name": "stdout",
     "output_type": "stream",
     "text": [
      "New folder \"/home/vic/PycharmProjects/DS_neuro/Task/detection/MY/cowc_dataset_1/crops/annotation_txt\" created for annotation_txt file stores\n"
     ]
    }
   ],
   "source": [
    "# создание текстовых аннотаций в формате yolo\n",
    "create_yolo_annotation(img_couple_list, path_crop_dir, plot_boundingbox = 0)"
   ]
  },
  {
   "cell_type": "code",
   "execution_count": 8,
   "metadata": {},
   "outputs": [
    {
     "name": "stdout",
     "output_type": "stream",
     "text": [
      "количество изображений в train: 104, количество изображений в validation: 26\n",
      "New folder \"/home/vic/PycharmProjects/DS_neuro/Task/detection/MY/cowc_dataset_1/crops/img_link_list\" created for img_link_list file stores\n"
     ]
    }
   ],
   "source": [
    "# разделить набор данных на 2 части, train_part= 0.8 - разделение треин-тест 80/20. и результат сохранить как пути к изображениям в текстовом файле\n",
    "split_dataset(path_crop_img, ['png'], 0.8, shuffle=True)"
   ]
  }
 ],
 "metadata": {
  "kernelspec": {
   "display_name": "Python 3",
   "language": "python",
   "name": "python3"
  },
  "language_info": {
   "codemirror_mode": {
    "name": "ipython",
    "version": 3
   },
   "file_extension": ".py",
   "mimetype": "text/x-python",
   "name": "python",
   "nbconvert_exporter": "python",
   "pygments_lexer": "ipython3",
   "version": "3.8.1"
  },
  "widgets": {
   "application/vnd.jupyter.widget-state+json": {
    "state": {},
    "version_major": 2,
    "version_minor": 0
   }
  }
 },
 "nbformat": 4,
 "nbformat_minor": 4
}
